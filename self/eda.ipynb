{
 "cells": [
  {
   "cell_type": "code",
   "execution_count": 1,
   "outputs": [],
   "source": [
    "import numpy as np\n",
    "import pandas as pd\n",
    "import matplotlib.pyplot as plt\n",
    "import seaborn as sns\n",
    "from scipy.stats import skew, norm\n",
    "from sklearn.metrics import mean_squared_error, mean_absolute_error\n",
    "\n",
    "from config import *"
   ],
   "metadata": {
    "collapsed": false,
    "pycharm": {
     "name": "#%%\n"
    }
   }
  },
  {
   "cell_type": "code",
   "execution_count": 2,
   "outputs": [
    {
     "data": {
      "text/plain": "   No  year  month  day  hour  PM2.5  PM10   SO2   NO2     CO    O3  TEMP  \\\n0   1  2013      3    1     0    4.0   4.0   4.0   7.0  300.0  77.0  -0.7   \n1   2  2013      3    1     1    8.0   8.0   4.0   7.0  300.0  77.0  -1.1   \n2   3  2013      3    1     2    7.0   7.0   5.0  10.0  300.0  73.0  -1.1   \n3   4  2013      3    1     3    6.0   6.0  11.0  11.0  300.0  72.0  -1.4   \n4   5  2013      3    1     4    3.0   3.0  12.0  12.0  300.0  72.0  -2.0   \n\n     PRES  DEWP  RAIN   wd  WSPM       station  \n0  1023.0 -18.8   0.0  NNW   4.4  Aotizhongxin  \n1  1023.2 -18.2   0.0    N   4.7  Aotizhongxin  \n2  1023.5 -18.2   0.0  NNW   5.6  Aotizhongxin  \n3  1024.5 -19.4   0.0   NW   3.1  Aotizhongxin  \n4  1025.2 -19.5   0.0    N   2.0  Aotizhongxin  ",
      "text/html": "<div>\n<style scoped>\n    .dataframe tbody tr th:only-of-type {\n        vertical-align: middle;\n    }\n\n    .dataframe tbody tr th {\n        vertical-align: top;\n    }\n\n    .dataframe thead th {\n        text-align: right;\n    }\n</style>\n<table border=\"1\" class=\"dataframe\">\n  <thead>\n    <tr style=\"text-align: right;\">\n      <th></th>\n      <th>No</th>\n      <th>year</th>\n      <th>month</th>\n      <th>day</th>\n      <th>hour</th>\n      <th>PM2.5</th>\n      <th>PM10</th>\n      <th>SO2</th>\n      <th>NO2</th>\n      <th>CO</th>\n      <th>O3</th>\n      <th>TEMP</th>\n      <th>PRES</th>\n      <th>DEWP</th>\n      <th>RAIN</th>\n      <th>wd</th>\n      <th>WSPM</th>\n      <th>station</th>\n    </tr>\n  </thead>\n  <tbody>\n    <tr>\n      <th>0</th>\n      <td>1</td>\n      <td>2013</td>\n      <td>3</td>\n      <td>1</td>\n      <td>0</td>\n      <td>4.0</td>\n      <td>4.0</td>\n      <td>4.0</td>\n      <td>7.0</td>\n      <td>300.0</td>\n      <td>77.0</td>\n      <td>-0.7</td>\n      <td>1023.0</td>\n      <td>-18.8</td>\n      <td>0.0</td>\n      <td>NNW</td>\n      <td>4.4</td>\n      <td>Aotizhongxin</td>\n    </tr>\n    <tr>\n      <th>1</th>\n      <td>2</td>\n      <td>2013</td>\n      <td>3</td>\n      <td>1</td>\n      <td>1</td>\n      <td>8.0</td>\n      <td>8.0</td>\n      <td>4.0</td>\n      <td>7.0</td>\n      <td>300.0</td>\n      <td>77.0</td>\n      <td>-1.1</td>\n      <td>1023.2</td>\n      <td>-18.2</td>\n      <td>0.0</td>\n      <td>N</td>\n      <td>4.7</td>\n      <td>Aotizhongxin</td>\n    </tr>\n    <tr>\n      <th>2</th>\n      <td>3</td>\n      <td>2013</td>\n      <td>3</td>\n      <td>1</td>\n      <td>2</td>\n      <td>7.0</td>\n      <td>7.0</td>\n      <td>5.0</td>\n      <td>10.0</td>\n      <td>300.0</td>\n      <td>73.0</td>\n      <td>-1.1</td>\n      <td>1023.5</td>\n      <td>-18.2</td>\n      <td>0.0</td>\n      <td>NNW</td>\n      <td>5.6</td>\n      <td>Aotizhongxin</td>\n    </tr>\n    <tr>\n      <th>3</th>\n      <td>4</td>\n      <td>2013</td>\n      <td>3</td>\n      <td>1</td>\n      <td>3</td>\n      <td>6.0</td>\n      <td>6.0</td>\n      <td>11.0</td>\n      <td>11.0</td>\n      <td>300.0</td>\n      <td>72.0</td>\n      <td>-1.4</td>\n      <td>1024.5</td>\n      <td>-19.4</td>\n      <td>0.0</td>\n      <td>NW</td>\n      <td>3.1</td>\n      <td>Aotizhongxin</td>\n    </tr>\n    <tr>\n      <th>4</th>\n      <td>5</td>\n      <td>2013</td>\n      <td>3</td>\n      <td>1</td>\n      <td>4</td>\n      <td>3.0</td>\n      <td>3.0</td>\n      <td>12.0</td>\n      <td>12.0</td>\n      <td>300.0</td>\n      <td>72.0</td>\n      <td>-2.0</td>\n      <td>1025.2</td>\n      <td>-19.5</td>\n      <td>0.0</td>\n      <td>N</td>\n      <td>2.0</td>\n      <td>Aotizhongxin</td>\n    </tr>\n  </tbody>\n</table>\n</div>"
     },
     "execution_count": 2,
     "metadata": {},
     "output_type": "execute_result"
    }
   ],
   "source": [
    "# Read the data/\"\n",
    "df = pd.read_csv(\"./data/PRSA_Data_Aotizhongxin_20130301-20170228.csv\")\n",
    "df.head()"
   ],
   "metadata": {
    "collapsed": false,
    "pycharm": {
     "name": "#%%\n"
    }
   }
  },
  {
   "cell_type": "code",
   "execution_count": 3,
   "outputs": [
    {
     "data": {
      "text/plain": "   year  month  day  hour  PM2.5  PM10   SO2   NO2     CO    O3  TEMP    PRES  \\\n0  2013      3    1     0    4.0   4.0   4.0   7.0  300.0  77.0  -0.7  1023.0   \n1  2013      3    1     1    8.0   8.0   4.0   7.0  300.0  77.0  -1.1  1023.2   \n2  2013      3    1     2    7.0   7.0   5.0  10.0  300.0  73.0  -1.1  1023.5   \n3  2013      3    1     3    6.0   6.0  11.0  11.0  300.0  72.0  -1.4  1024.5   \n4  2013      3    1     4    3.0   3.0  12.0  12.0  300.0  72.0  -2.0  1025.2   \n\n   DEWP  RAIN   wd  WSPM       station  \n0 -18.8   0.0  NNW   4.4  Aotizhongxin  \n1 -18.2   0.0    N   4.7  Aotizhongxin  \n2 -18.2   0.0  NNW   5.6  Aotizhongxin  \n3 -19.4   0.0   NW   3.1  Aotizhongxin  \n4 -19.5   0.0    N   2.0  Aotizhongxin  ",
      "text/html": "<div>\n<style scoped>\n    .dataframe tbody tr th:only-of-type {\n        vertical-align: middle;\n    }\n\n    .dataframe tbody tr th {\n        vertical-align: top;\n    }\n\n    .dataframe thead th {\n        text-align: right;\n    }\n</style>\n<table border=\"1\" class=\"dataframe\">\n  <thead>\n    <tr style=\"text-align: right;\">\n      <th></th>\n      <th>year</th>\n      <th>month</th>\n      <th>day</th>\n      <th>hour</th>\n      <th>PM2.5</th>\n      <th>PM10</th>\n      <th>SO2</th>\n      <th>NO2</th>\n      <th>CO</th>\n      <th>O3</th>\n      <th>TEMP</th>\n      <th>PRES</th>\n      <th>DEWP</th>\n      <th>RAIN</th>\n      <th>wd</th>\n      <th>WSPM</th>\n      <th>station</th>\n    </tr>\n  </thead>\n  <tbody>\n    <tr>\n      <th>0</th>\n      <td>2013</td>\n      <td>3</td>\n      <td>1</td>\n      <td>0</td>\n      <td>4.0</td>\n      <td>4.0</td>\n      <td>4.0</td>\n      <td>7.0</td>\n      <td>300.0</td>\n      <td>77.0</td>\n      <td>-0.7</td>\n      <td>1023.0</td>\n      <td>-18.8</td>\n      <td>0.0</td>\n      <td>NNW</td>\n      <td>4.4</td>\n      <td>Aotizhongxin</td>\n    </tr>\n    <tr>\n      <th>1</th>\n      <td>2013</td>\n      <td>3</td>\n      <td>1</td>\n      <td>1</td>\n      <td>8.0</td>\n      <td>8.0</td>\n      <td>4.0</td>\n      <td>7.0</td>\n      <td>300.0</td>\n      <td>77.0</td>\n      <td>-1.1</td>\n      <td>1023.2</td>\n      <td>-18.2</td>\n      <td>0.0</td>\n      <td>N</td>\n      <td>4.7</td>\n      <td>Aotizhongxin</td>\n    </tr>\n    <tr>\n      <th>2</th>\n      <td>2013</td>\n      <td>3</td>\n      <td>1</td>\n      <td>2</td>\n      <td>7.0</td>\n      <td>7.0</td>\n      <td>5.0</td>\n      <td>10.0</td>\n      <td>300.0</td>\n      <td>73.0</td>\n      <td>-1.1</td>\n      <td>1023.5</td>\n      <td>-18.2</td>\n      <td>0.0</td>\n      <td>NNW</td>\n      <td>5.6</td>\n      <td>Aotizhongxin</td>\n    </tr>\n    <tr>\n      <th>3</th>\n      <td>2013</td>\n      <td>3</td>\n      <td>1</td>\n      <td>3</td>\n      <td>6.0</td>\n      <td>6.0</td>\n      <td>11.0</td>\n      <td>11.0</td>\n      <td>300.0</td>\n      <td>72.0</td>\n      <td>-1.4</td>\n      <td>1024.5</td>\n      <td>-19.4</td>\n      <td>0.0</td>\n      <td>NW</td>\n      <td>3.1</td>\n      <td>Aotizhongxin</td>\n    </tr>\n    <tr>\n      <th>4</th>\n      <td>2013</td>\n      <td>3</td>\n      <td>1</td>\n      <td>4</td>\n      <td>3.0</td>\n      <td>3.0</td>\n      <td>12.0</td>\n      <td>12.0</td>\n      <td>300.0</td>\n      <td>72.0</td>\n      <td>-2.0</td>\n      <td>1025.2</td>\n      <td>-19.5</td>\n      <td>0.0</td>\n      <td>N</td>\n      <td>2.0</td>\n      <td>Aotizhongxin</td>\n    </tr>\n  </tbody>\n</table>\n</div>"
     },
     "execution_count": 3,
     "metadata": {},
     "output_type": "execute_result"
    }
   ],
   "source": [
    "# Drop the no col\n",
    "df = df.drop(\"No\", axis=1)\n",
    "df.head()"
   ],
   "metadata": {
    "collapsed": false,
    "pycharm": {
     "name": "#%%\n"
    }
   }
  },
  {
   "cell_type": "code",
   "execution_count": 4,
   "outputs": [
    {
     "data": {
      "text/plain": "               year         month           day          hour         PM2.5  \\\ncount  35064.000000  35064.000000  35064.000000  35064.000000  34139.000000   \nmean    2014.662560      6.522930     15.729637     11.500000     82.773611   \nstd        1.177213      3.448752      8.800218      6.922285     82.135694   \nmin     2013.000000      1.000000      1.000000      0.000000      3.000000   \n25%     2014.000000      4.000000      8.000000      5.750000     22.000000   \n50%     2015.000000      7.000000     16.000000     11.500000     58.000000   \n75%     2016.000000     10.000000     23.000000     17.250000    114.000000   \nmax     2017.000000     12.000000     31.000000     23.000000    898.000000   \n\n               PM10           SO2           NO2            CO            O3  \\\ncount  34346.000000  34129.000000  34041.000000  33288.000000  33345.000000   \nmean     110.060391     17.375901     59.305833   1262.945145     56.353358   \nstd       95.223005     22.823017     37.116200   1221.436236     57.916327   \nmin        2.000000      0.285600      2.000000    100.000000      0.214200   \n25%       38.000000      3.000000     30.000000    500.000000      8.000000   \n50%       87.000000      9.000000     53.000000    900.000000     42.000000   \n75%      155.000000     21.000000     82.000000   1500.000000     82.000000   \nmax      984.000000    341.000000    290.000000  10000.000000    423.000000   \n\n               TEMP          PRES          DEWP          RAIN          WSPM  \ncount  35044.000000  35044.000000  35044.000000  35044.000000  35050.000000  \nmean      13.584607   1011.846920      3.123062      0.067421      1.708496  \nstd       11.399097     10.404047     13.688896      0.910056      1.204071  \nmin      -16.800000    985.900000    -35.300000      0.000000      0.000000  \n25%        3.100000   1003.300000     -8.100000      0.000000      0.900000  \n50%       14.500000   1011.400000      3.800000      0.000000      1.400000  \n75%       23.300000   1020.100000     15.600000      0.000000      2.200000  \nmax       40.500000   1042.000000     28.500000     72.500000     11.200000  ",
      "text/html": "<div>\n<style scoped>\n    .dataframe tbody tr th:only-of-type {\n        vertical-align: middle;\n    }\n\n    .dataframe tbody tr th {\n        vertical-align: top;\n    }\n\n    .dataframe thead th {\n        text-align: right;\n    }\n</style>\n<table border=\"1\" class=\"dataframe\">\n  <thead>\n    <tr style=\"text-align: right;\">\n      <th></th>\n      <th>year</th>\n      <th>month</th>\n      <th>day</th>\n      <th>hour</th>\n      <th>PM2.5</th>\n      <th>PM10</th>\n      <th>SO2</th>\n      <th>NO2</th>\n      <th>CO</th>\n      <th>O3</th>\n      <th>TEMP</th>\n      <th>PRES</th>\n      <th>DEWP</th>\n      <th>RAIN</th>\n      <th>WSPM</th>\n    </tr>\n  </thead>\n  <tbody>\n    <tr>\n      <th>count</th>\n      <td>35064.000000</td>\n      <td>35064.000000</td>\n      <td>35064.000000</td>\n      <td>35064.000000</td>\n      <td>34139.000000</td>\n      <td>34346.000000</td>\n      <td>34129.000000</td>\n      <td>34041.000000</td>\n      <td>33288.000000</td>\n      <td>33345.000000</td>\n      <td>35044.000000</td>\n      <td>35044.000000</td>\n      <td>35044.000000</td>\n      <td>35044.000000</td>\n      <td>35050.000000</td>\n    </tr>\n    <tr>\n      <th>mean</th>\n      <td>2014.662560</td>\n      <td>6.522930</td>\n      <td>15.729637</td>\n      <td>11.500000</td>\n      <td>82.773611</td>\n      <td>110.060391</td>\n      <td>17.375901</td>\n      <td>59.305833</td>\n      <td>1262.945145</td>\n      <td>56.353358</td>\n      <td>13.584607</td>\n      <td>1011.846920</td>\n      <td>3.123062</td>\n      <td>0.067421</td>\n      <td>1.708496</td>\n    </tr>\n    <tr>\n      <th>std</th>\n      <td>1.177213</td>\n      <td>3.448752</td>\n      <td>8.800218</td>\n      <td>6.922285</td>\n      <td>82.135694</td>\n      <td>95.223005</td>\n      <td>22.823017</td>\n      <td>37.116200</td>\n      <td>1221.436236</td>\n      <td>57.916327</td>\n      <td>11.399097</td>\n      <td>10.404047</td>\n      <td>13.688896</td>\n      <td>0.910056</td>\n      <td>1.204071</td>\n    </tr>\n    <tr>\n      <th>min</th>\n      <td>2013.000000</td>\n      <td>1.000000</td>\n      <td>1.000000</td>\n      <td>0.000000</td>\n      <td>3.000000</td>\n      <td>2.000000</td>\n      <td>0.285600</td>\n      <td>2.000000</td>\n      <td>100.000000</td>\n      <td>0.214200</td>\n      <td>-16.800000</td>\n      <td>985.900000</td>\n      <td>-35.300000</td>\n      <td>0.000000</td>\n      <td>0.000000</td>\n    </tr>\n    <tr>\n      <th>25%</th>\n      <td>2014.000000</td>\n      <td>4.000000</td>\n      <td>8.000000</td>\n      <td>5.750000</td>\n      <td>22.000000</td>\n      <td>38.000000</td>\n      <td>3.000000</td>\n      <td>30.000000</td>\n      <td>500.000000</td>\n      <td>8.000000</td>\n      <td>3.100000</td>\n      <td>1003.300000</td>\n      <td>-8.100000</td>\n      <td>0.000000</td>\n      <td>0.900000</td>\n    </tr>\n    <tr>\n      <th>50%</th>\n      <td>2015.000000</td>\n      <td>7.000000</td>\n      <td>16.000000</td>\n      <td>11.500000</td>\n      <td>58.000000</td>\n      <td>87.000000</td>\n      <td>9.000000</td>\n      <td>53.000000</td>\n      <td>900.000000</td>\n      <td>42.000000</td>\n      <td>14.500000</td>\n      <td>1011.400000</td>\n      <td>3.800000</td>\n      <td>0.000000</td>\n      <td>1.400000</td>\n    </tr>\n    <tr>\n      <th>75%</th>\n      <td>2016.000000</td>\n      <td>10.000000</td>\n      <td>23.000000</td>\n      <td>17.250000</td>\n      <td>114.000000</td>\n      <td>155.000000</td>\n      <td>21.000000</td>\n      <td>82.000000</td>\n      <td>1500.000000</td>\n      <td>82.000000</td>\n      <td>23.300000</td>\n      <td>1020.100000</td>\n      <td>15.600000</td>\n      <td>0.000000</td>\n      <td>2.200000</td>\n    </tr>\n    <tr>\n      <th>max</th>\n      <td>2017.000000</td>\n      <td>12.000000</td>\n      <td>31.000000</td>\n      <td>23.000000</td>\n      <td>898.000000</td>\n      <td>984.000000</td>\n      <td>341.000000</td>\n      <td>290.000000</td>\n      <td>10000.000000</td>\n      <td>423.000000</td>\n      <td>40.500000</td>\n      <td>1042.000000</td>\n      <td>28.500000</td>\n      <td>72.500000</td>\n      <td>11.200000</td>\n    </tr>\n  </tbody>\n</table>\n</div>"
     },
     "execution_count": 4,
     "metadata": {},
     "output_type": "execute_result"
    }
   ],
   "source": [
    "# Describe the data\n",
    "df.describe()"
   ],
   "metadata": {
    "collapsed": false,
    "pycharm": {
     "name": "#%%\n"
    }
   }
  },
  {
   "cell_type": "code",
   "execution_count": 5,
   "outputs": [
    {
     "name": "stdout",
     "output_type": "stream",
     "text": [
      "<class 'pandas.core.frame.DataFrame'>\n",
      "RangeIndex: 35064 entries, 0 to 35063\n",
      "Data columns (total 17 columns):\n",
      " #   Column   Non-Null Count  Dtype  \n",
      "---  ------   --------------  -----  \n",
      " 0   year     35064 non-null  int64  \n",
      " 1   month    35064 non-null  int64  \n",
      " 2   day      35064 non-null  int64  \n",
      " 3   hour     35064 non-null  int64  \n",
      " 4   PM2.5    34139 non-null  float64\n",
      " 5   PM10     34346 non-null  float64\n",
      " 6   SO2      34129 non-null  float64\n",
      " 7   NO2      34041 non-null  float64\n",
      " 8   CO       33288 non-null  float64\n",
      " 9   O3       33345 non-null  float64\n",
      " 10  TEMP     35044 non-null  float64\n",
      " 11  PRES     35044 non-null  float64\n",
      " 12  DEWP     35044 non-null  float64\n",
      " 13  RAIN     35044 non-null  float64\n",
      " 14  wd       34983 non-null  object \n",
      " 15  WSPM     35050 non-null  float64\n",
      " 16  station  35064 non-null  object \n",
      "dtypes: float64(11), int64(4), object(2)\n",
      "memory usage: 4.5+ MB\n"
     ]
    }
   ],
   "source": [
    "# Info of all columns\n",
    "df.info()"
   ],
   "metadata": {
    "collapsed": false,
    "pycharm": {
     "name": "#%%\n"
    }
   }
  },
  {
   "cell_type": "code",
   "execution_count": 6,
   "outputs": [
    {
     "data": {
      "text/plain": "<Figure size 432x288 with 1 Axes>",
      "image/png": "[encoded data removed]"
     },
     "metadata": {
      "needs_background": "light"
     },
     "output_type": "display_data"
    }
   ],
   "source": [
    "# Plot the missing values plot\n",
    "# Define function to return percentage of missing data\n",
    "def get_percent_nan(df):\n",
    "    return 100 * df.isnull().sum() / len(df)\n",
    "\n",
    "def percent_missing(df):\n",
    "    percent_nan = get_percent_nan(df)\n",
    "    percent_nan = percent_nan[percent_nan > 0].sort_values()\n",
    "    return percent_nan\n",
    "\n",
    "# Define function to plot percentage of missing data\n",
    "def plot_missing(percent_nan):\n",
    "    sns.barplot(x=percent_nan.index, y=percent_nan)\n",
    "    plt.xticks(rotation=90)\n",
    "    plt.suptitle(\"The percentage of missing data\")\n",
    "\n",
    "percent_nan = percent_missing(df)\n",
    "plot_missing(percent_nan)"
   ],
   "metadata": {
    "collapsed": false,
    "pycharm": {
     "name": "#%%\n"
    }
   }
  },
  {
   "cell_type": "code",
   "execution_count": 7,
   "outputs": [],
   "source": [
    "# Distributed for every col\n",
    "# print(len(NUM_COL_LIST)%3)\n",
    "# fig, ax = plt.subplots(nrows=len(NUM_COL_LIST)//3, ncols=3, figsize=(20, 15))\n",
    "# for i, col in enumerate(NUM_COL_LIST):\n",
    "#     sns.histplot(df, x=col, ax=ax[i//3][i%3])"
   ],
   "metadata": {
    "collapsed": false,
    "pycharm": {
     "name": "#%%\n"
    }
   }
  },
  {
   "cell_type": "code",
   "execution_count": 8,
   "outputs": [
    {
     "ename": "KeyError",
     "evalue": "\"['week', 'week_day'] not in index\"",
     "output_type": "error",
     "traceback": [
      "\u001B[0;31m---------------------------------------------------------------------------\u001B[0m",
      "\u001B[0;31mKeyError\u001B[0m                                  Traceback (most recent call last)",
      "Input \u001B[0;32mIn [8]\u001B[0m, in \u001B[0;36m<cell line: 4>\u001B[0;34m()\u001B[0m\n\u001B[1;32m      2\u001B[0m fig, ax \u001B[38;5;241m=\u001B[39m plt\u001B[38;5;241m.\u001B[39msubplots()\n\u001B[1;32m      3\u001B[0m ax\u001B[38;5;241m.\u001B[39mset_xscale(\u001B[38;5;124m\"\u001B[39m\u001B[38;5;124mlog\u001B[39m\u001B[38;5;124m\"\u001B[39m)\n\u001B[0;32m----> 4\u001B[0m ax \u001B[38;5;241m=\u001B[39m sns\u001B[38;5;241m.\u001B[39mboxplot(data\u001B[38;5;241m=\u001B[39m\u001B[43mdf\u001B[49m\u001B[43m[\u001B[49m\u001B[43mNUM_COL_LIST\u001B[49m\u001B[43m]\u001B[49m, orient\u001B[38;5;241m=\u001B[39m\u001B[38;5;124m\"\u001B[39m\u001B[38;5;124mh\u001B[39m\u001B[38;5;124m\"\u001B[39m)\n\u001B[1;32m      5\u001B[0m ax\u001B[38;5;241m.\u001B[39mxaxis\u001B[38;5;241m.\u001B[39mgrid(\u001B[38;5;28;01mFalse\u001B[39;00m)\n\u001B[1;32m      6\u001B[0m ax\u001B[38;5;241m.\u001B[39mset_title(\u001B[38;5;124m\"\u001B[39m\u001B[38;5;124mNumeric Distribution of Features\u001B[39m\u001B[38;5;124m\"\u001B[39m)\n",
      "File \u001B[0;32m/media/binh0312/DF/project/competition/2022/air-quality-prediction-vn-express/self/venv/lib/python3.10/site-packages/pandas/core/frame.py:3511\u001B[0m, in \u001B[0;36mDataFrame.__getitem__\u001B[0;34m(self, key)\u001B[0m\n\u001B[1;32m   3509\u001B[0m     \u001B[38;5;28;01mif\u001B[39;00m is_iterator(key):\n\u001B[1;32m   3510\u001B[0m         key \u001B[38;5;241m=\u001B[39m \u001B[38;5;28mlist\u001B[39m(key)\n\u001B[0;32m-> 3511\u001B[0m     indexer \u001B[38;5;241m=\u001B[39m \u001B[38;5;28;43mself\u001B[39;49m\u001B[38;5;241;43m.\u001B[39;49m\u001B[43mcolumns\u001B[49m\u001B[38;5;241;43m.\u001B[39;49m\u001B[43m_get_indexer_strict\u001B[49m\u001B[43m(\u001B[49m\u001B[43mkey\u001B[49m\u001B[43m,\u001B[49m\u001B[43m \u001B[49m\u001B[38;5;124;43m\"\u001B[39;49m\u001B[38;5;124;43mcolumns\u001B[39;49m\u001B[38;5;124;43m\"\u001B[39;49m\u001B[43m)\u001B[49m[\u001B[38;5;241m1\u001B[39m]\n\u001B[1;32m   3513\u001B[0m \u001B[38;5;66;03m# take() does not accept boolean indexers\u001B[39;00m\n\u001B[1;32m   3514\u001B[0m \u001B[38;5;28;01mif\u001B[39;00m \u001B[38;5;28mgetattr\u001B[39m(indexer, \u001B[38;5;124m\"\u001B[39m\u001B[38;5;124mdtype\u001B[39m\u001B[38;5;124m\"\u001B[39m, \u001B[38;5;28;01mNone\u001B[39;00m) \u001B[38;5;241m==\u001B[39m \u001B[38;5;28mbool\u001B[39m:\n",
      "File \u001B[0;32m/media/binh0312/DF/project/competition/2022/air-quality-prediction-vn-express/self/venv/lib/python3.10/site-packages/pandas/core/indexes/base.py:5782\u001B[0m, in \u001B[0;36mIndex._get_indexer_strict\u001B[0;34m(self, key, axis_name)\u001B[0m\n\u001B[1;32m   5779\u001B[0m \u001B[38;5;28;01melse\u001B[39;00m:\n\u001B[1;32m   5780\u001B[0m     keyarr, indexer, new_indexer \u001B[38;5;241m=\u001B[39m \u001B[38;5;28mself\u001B[39m\u001B[38;5;241m.\u001B[39m_reindex_non_unique(keyarr)\n\u001B[0;32m-> 5782\u001B[0m \u001B[38;5;28;43mself\u001B[39;49m\u001B[38;5;241;43m.\u001B[39;49m\u001B[43m_raise_if_missing\u001B[49m\u001B[43m(\u001B[49m\u001B[43mkeyarr\u001B[49m\u001B[43m,\u001B[49m\u001B[43m \u001B[49m\u001B[43mindexer\u001B[49m\u001B[43m,\u001B[49m\u001B[43m \u001B[49m\u001B[43maxis_name\u001B[49m\u001B[43m)\u001B[49m\n\u001B[1;32m   5784\u001B[0m keyarr \u001B[38;5;241m=\u001B[39m \u001B[38;5;28mself\u001B[39m\u001B[38;5;241m.\u001B[39mtake(indexer)\n\u001B[1;32m   5785\u001B[0m \u001B[38;5;28;01mif\u001B[39;00m \u001B[38;5;28misinstance\u001B[39m(key, Index):\n\u001B[1;32m   5786\u001B[0m     \u001B[38;5;66;03m# GH 42790 - Preserve name from an Index\u001B[39;00m\n",
      "File \u001B[0;32m/media/binh0312/DF/project/competition/2022/air-quality-prediction-vn-express/self/venv/lib/python3.10/site-packages/pandas/core/indexes/base.py:5845\u001B[0m, in \u001B[0;36mIndex._raise_if_missing\u001B[0;34m(self, key, indexer, axis_name)\u001B[0m\n\u001B[1;32m   5842\u001B[0m     \u001B[38;5;28;01mraise\u001B[39;00m \u001B[38;5;167;01mKeyError\u001B[39;00m(\u001B[38;5;124mf\u001B[39m\u001B[38;5;124m\"\u001B[39m\u001B[38;5;124mNone of [\u001B[39m\u001B[38;5;132;01m{\u001B[39;00mkey\u001B[38;5;132;01m}\u001B[39;00m\u001B[38;5;124m] are in the [\u001B[39m\u001B[38;5;132;01m{\u001B[39;00maxis_name\u001B[38;5;132;01m}\u001B[39;00m\u001B[38;5;124m]\u001B[39m\u001B[38;5;124m\"\u001B[39m)\n\u001B[1;32m   5844\u001B[0m not_found \u001B[38;5;241m=\u001B[39m \u001B[38;5;28mlist\u001B[39m(ensure_index(key)[missing_mask\u001B[38;5;241m.\u001B[39mnonzero()[\u001B[38;5;241m0\u001B[39m]]\u001B[38;5;241m.\u001B[39munique())\n\u001B[0;32m-> 5845\u001B[0m \u001B[38;5;28;01mraise\u001B[39;00m \u001B[38;5;167;01mKeyError\u001B[39;00m(\u001B[38;5;124mf\u001B[39m\u001B[38;5;124m\"\u001B[39m\u001B[38;5;132;01m{\u001B[39;00mnot_found\u001B[38;5;132;01m}\u001B[39;00m\u001B[38;5;124m not in index\u001B[39m\u001B[38;5;124m\"\u001B[39m)\n",
      "\u001B[0;31mKeyError\u001B[0m: \"['week', 'week_day'] not in index\""
     ]
    },
    {
     "data": {
      "text/plain": "<Figure size 432x288 with 1 Axes>",
      "image/png": "[encoded data removed]"
     },
     "metadata": {
      "needs_background": "light"
     },
     "output_type": "display_data"
    }
   ],
   "source": [
    "# Plot for skewness\n",
    "fig, ax = plt.subplots()\n",
    "ax.set_xscale(\"log\")\n",
    "ax = sns.boxplot(data=df[NUM_COL_LIST], orient=\"h\")\n",
    "ax.xaxis.grid(False)\n",
    "ax.set_title(\"Numeric Distribution of Features\")"
   ],
   "metadata": {
    "collapsed": false,
    "pycharm": {
     "name": "#%%\n"
    }
   }
  },
  {
   "cell_type": "code",
   "execution_count": null,
   "outputs": [],
   "source": [
    "df[\"RAIN\"].value_counts().sort_values(ascending=False)"
   ],
   "metadata": {
    "collapsed": false,
    "pycharm": {
     "name": "#%%\n"
    }
   }
  },
  {
   "cell_type": "code",
   "execution_count": null,
   "outputs": [],
   "source": [
    "result = pd.read_csv(\"./out/predict-change-fill.csv\")\n",
    "\n",
    "x = np.arange(0, result.shape[0])\n",
    "\n",
    "plt.plot(x, result[\"labels\"], c='b')\n",
    "plt.plot(x, result[\"predictions\"], c='r')"
   ],
   "metadata": {
    "collapsed": false,
    "pycharm": {
     "name": "#%%\n"
    }
   }
  },
  {
   "cell_type": "code",
   "execution_count": null,
   "outputs": [],
   "source": [
    "np.max(df[\"PM2.5\"])"
   ],
   "metadata": {
    "collapsed": false,
    "pycharm": {
     "name": "#%%\n"
    }
   }
  },
  {
   "cell_type": "code",
   "execution_count": null,
   "outputs": [],
   "source": [
    "print(np.sqrt(mean_squared_error(result[\"predictions\"], result[\"labels\"])))\n",
    "print(mean_absolute_error(result[\"predictions\"], result[\"labels\"]))"
   ],
   "metadata": {
    "collapsed": false,
    "pycharm": {
     "name": "#%%\n"
    }
   }
  }
 ],
 "metadata": {
  "kernelspec": {
   "display_name": "Python 3",
   "language": "python",
   "name": "python3"
  },
  "language_info": {
   "codemirror_mode": {
    "name": "ipython",
    "version": 2
   },
   "file_extension": ".py",
   "mimetype": "text/x-python",
   "name": "python",
   "nbconvert_exporter": "python",
   "pygments_lexer": "ipython2",
   "version": "2.7.6"
  }
 },
 "nbformat": 4,
 "nbformat_minor": 0
}